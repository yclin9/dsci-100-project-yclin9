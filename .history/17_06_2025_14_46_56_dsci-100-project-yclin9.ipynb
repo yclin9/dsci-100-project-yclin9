{
 "cells": [
  {
   "cell_type": "markdown",
   "id": "3ad961c5-46f0-476a-832d-1ecbabf59a6a",
   "metadata": {},
   "source": [
    "<h1>TITLE</h1>"
   ]
  },
  {
   "cell_type": "markdown",
   "id": "da77aefc-d29b-4b55-92f6-b5f67381e2e0",
   "metadata": {},
   "source": [
    "<h2>Introduction</h2>"
   ]
  },
  {
   "cell_type": "markdown",
   "id": "f89906b7-d707-4a9d-bb9f-ebdf82101f01",
   "metadata": {},
   "source": [
    "<p>In modern video game industry, newsletter is a common make connections to the players. The game company can convey message and post advertisements using the newsletter. Therefore, to increase the profit and the marketing strategies, it is vital to know the characteristics of players who are more willing to subscribe the newsletter.</p>"
   ]
  },
  {
   "cell_type": "markdown",
   "id": "713e46f6-c92c-4bba-b0b2-ddb47cb045c8",
   "metadata": {},
   "source": [
    "<p>This project aims to discuss what player characteristics and behaviours are most predictive of subscribing to a game-related newsletter, and how these features differ between various player types.</p>"
   ]
  },
  {
   "cell_type": "markdown",
   "id": "15095246-8124-4c7a-bd73-f85453aaf9d1",
   "metadata": {},
   "source": [
    "<p>R is used in this project to analyze the dataset and summarize them into plots and tables. The dataset used in the project is a comma-separated value (csv) file called <code>player.csv</code>. The dataset includes the following columns:</p>\n",
    "\n",
    "- experience: The experience of the player (Amateur, Beginner, Pro, Regular, Veteran)\n",
    "- subscribe: Whether the player subscribed to a game-related newsletter (TRUE, FALSE)\n",
    "- hashedEmail: The hashed email of the player\n",
    "- played_hours: The time the player spent at playing the game (in hours)\n",
    "- name: The player's name\n",
    "- gender: The player's gender\n",
    "- Age: The player's age.\n",
    "\n",
    "<p><b>... !!! DATA DESCRIPTION</b></p>"
   ]
  },
  {
   "cell_type": "markdown",
   "id": "fc960d9a-c39a-4469-b839-c945ae21a3b0",
   "metadata": {},
   "source": [
    "<h2>Methods & Results</h2>"
   ]
  },
  {
   "cell_type": "markdown",
   "id": "d46b54cc-4cc7-4ed6-a707-ca9d01151e57",
   "metadata": {},
   "source": [
    "<p>The purpose of this project is to find out what player characteristics and behaviours can most successfully predict if they subscribed to a game-related newsletter. First of all, in order to analyze and visualize the results using R, some packages are required to be loaded, including <code>tidyverse</code> and <code>tidymodels</code>.</p>"
   ]
  },
  {
   "cell_type": "code",
   "execution_count": null,
   "id": "a28e6adc-6c62-4427-81c9-1be51c47629c",
   "metadata": {},
   "outputs": [],
   "source": [
    "library(tidyverse)\n",
    "library(tidymodels)"
   ]
  },
  {
   "cell_type": "markdown",
   "id": "d944eee1-bbfa-4405-80de-16d7fe79ecc6",
   "metadata": {},
   "source": [
    "<p>The function <code>read_csv()</code> can consume the path of a file. We will use it to load the dataset. Let's call the data frame <code>players</code>. We can use the absolute path which always starts with a slash <code>/</code> and lists out the sequence of folders from the root (Timbers et al., 2024). In this case, the absolute path of <code>players.csv</code> is <code>/home/dsci-100-project-yclin9/players.csv</code>.</p>\n",
    "\n",
    "<p>However, we can use the relative path instead. A relative path only list out the sequence of folders from our current working file. Since the <code>csv</code> file is in the same folder from our current working file, the relative path of the file is <code>players.csv</code></p>\n",
    "\n",
    "<p>The function <code>head()</code> is designed to look first couple lines of the data frame. Here we can use it to preview the first ten rows of the data frame <code>players</code>.</p>"
   ]
  },
  {
   "cell_type": "code",
   "execution_count": null,
   "id": "458b091e-25c2-4c87-a864-19daaabbfc16",
   "metadata": {},
   "outputs": [],
   "source": [
    "players <- read_csv(\"players.csv\")\n",
    "head(players, 10)"
   ]
  },
  {
   "cell_type": "markdown",
   "id": "88c402c0-c2ad-4df0-bc6f-606e4150a1a4",
   "metadata": {},
   "source": [
    "<p>After loading the dataset, the next thing to do is to wrangle and clean the data to the format necessary for the data analysis. Let's name the new data frame <code>players_clean</code>. The <code>mutate()</code> function is used for modifying or adding the columns. For a classification model, the outcome should be a factor rather than a logical. Hence, <code>as_factor()</code> is used to modify the column <code>experience</code> to become logical.</p>\n",
    "\n",
    "<p>The <code>select()</code> function can help select the columns we need. In this project, we use K-nearest neighbor classification algorithm, which can only predict the result using numeric data (detailed explanation will be given later). Looking at the dataset, only <code>played_hours</code> and <code>Age</code> are numeric data. Therefore, we select <code>played_hours</code>, <code>Age</code>, and <code>subscribe</code> from the dataset.</p>\n",
    "\n",
    "<p>We except both players' age and played time are predictive of subscribing the game-related newsletter. Young players tend to be more curious and enthusiastic about the game, which makes them have a higher possibility to subscribe for the newsletter. Moreover, people who spend more time on the game shows that they have more interest and willingness to following game-relevant information or update.</p>\n",
    "\n",
    "<p>Using <code>head()</code> to preview the first ten rows of the data frame, we can see that there are now only needed columns. The variables <code>played_hours</code> and <code>Age</code> are used to evaluate the result and <code>subscribe</code> is the variable we want to label. Additionally, the data type of <code>subscribe</code> is changed from logical (<code>lgl</code>) to factor (<code>dbl</code>).</p>"
   ]
  },
  {
   "cell_type": "code",
   "execution_count": null,
   "id": "5d5cff4f-26c4-41e1-85e4-5b58fa47a018",
   "metadata": {},
   "outputs": [],
   "source": [
    "players_clean <- players |>\n",
    "    mutate(subscribe = as_factor(subscribe)) |>\n",
    "    filter(age, na.rm = TRUE)|>\n",
    "    select(played_hours, Age, subscribe)\n",
    "head(players_clean, 10)\n",
    "players_clean"
   ]
  },
  {
   "cell_type": "markdown",
   "id": "74fe480e-99bf-4c0c-93b3-45bc7a04b347",
   "metadata": {},
   "source": [
    "<p>To visualize the data in R, we have to us the <code>ggplot2</code> package. The <code>ggplot2</code> is already included in the <code>tidyverse</code> metapackage, so no further action is required here to load the package.</p>\n",
    "\n",
    "<p>We want to produce a scatter plot, with the time players spent on the x-axis and their age on the y-axis, then color the point based on whether they subscribed to a game-related newsletter. We assign those variables in the <code>aes()</code> function. To create a geometric object, we use a <code>geom_*</code> function. In this case, to generate a scatter plot, we use the function <code>geom_point()</code>, the argument <code>alpha</code> makes the dots translucent (Timbers et al., 2024).</code></p>\n",
    "\n",
    "<p>Since the values of <code>played_hours</code> concentrate between 0 to 1 (hour), the graph will be difficult to read (the first graph presented below). Therefore, <code>scale_x_log10()</code> is used (the second graph presented below) to scale the plot and make it more readable.</p>\n",
    "\n",
    "<p>As can be seen in the graph, there are more blue dots in the lower half of the graph, at the other hand, dots in the upper half are usually pink. Plus, at the horizontal direction, there are mostly blue dots in the right half of the graph, while there is a mix of blue dots and pink dots in the left half. Those observations indicate that younger players and players are more willing to subscribe to a game-related newsletter. Despite the relation between those variables, more work has to be done to tell how well the age and played time can successfully predict whether or not the player had subscribed to the game-related newsletter.</p>"
   ]
  },
  {
   "cell_type": "code",
   "execution_count": null,
   "id": "c1cb14f8-0905-4e2a-a62d-9dfc9989e90a",
   "metadata": {},
   "outputs": [],
   "source": [
    "players_plot <- ggplot(players_clean, aes(x = played_hours, y = Age, color = subscribe)) +\n",
    "                    geom_point(alpha = 0.7) +\n",
    "                    labs(x = \"Number of Hours Played\", y = \"Age\",\n",
    "                         title = \"Players' Age vs Number of Hours They Played\")\n",
    "\n",
    "players_plot_scaled <- ggplot(players_clean, aes(x = played_hours, y = Age, color = subscribe)) +\n",
    "                    geom_point(alpha = 0.7) +\n",
    "                    labs(x = \"Number of Hours Played\", y = \"Age\",\n",
    "                         title = \"Players' Age vs Number of Hours They Played (taken log10)\") +\n",
    "                    scale_x_log10()\n",
    "\n",
    "\n",
    "players_plot\n",
    "players_plot_scaled"
   ]
  },
  {
   "cell_type": "markdown",
   "id": "8c11ed68-8d56-480e-bf20-1a8113e42aee",
   "metadata": {},
   "source": [
    "<p>We are using an algorithm called K-nearest neighbors classification. This method predict the label of the new observation based on the labels of those observations close the new one.</p>\n",
    "\n",
    "<p>To train a model using K-nearnest neighbor to predict the label of <code>subscribe</code>, we must first use <code>initial_split()</code> to separate the training and testing sets. The argument <code>prop</code> specifies the proportion of the original data set to train, here we take 80% of the original data as the training set. <code>strata</code> is the categorical variable to predict, which is <code>subscribe</code> in the project.</p>"
   ]
  },
  {
   "cell_type": "code",
   "execution_count": null,
   "id": "bda1c570-5e37-4047-84fd-8b5f60b3a64c",
   "metadata": {},
   "outputs": [],
   "source": [
    "players_split <- initial_split(players_clean, prop = 0.8, strata = subscribe)\n",
    "players_training <- training(players_split)\n",
    "players_testing <- testing(players_split)"
   ]
  },
  {
   "cell_type": "markdown",
   "id": "ef8a8997-a1cd-41de-88be-c5e816730fe7",
   "metadata": {},
   "source": [
    "<p>The <code>todymodels</code> uses a <code>recipe</code> for all data processing (Timbers et al., 2024). The function <code>recipe()</code> helps create a recipe.</p>\n",
    "\n",
    "<p>Later on, we must standardize the data to assure that the two variables will influence the results to the same extent. After scaling (<code>step_scale()</code>) and centering (<code>step_center()</code>) all the predictors, they now have a same mean $0$ and standard deviation $1$.</p>"
   ]
  },
  {
   "cell_type": "code",
   "execution_count": null,
   "id": "72b3870f-ed08-426f-9d59-ed8625053100",
   "metadata": {},
   "outputs": [],
   "source": [
    "players_recipe <- recipe(subscribe ~ played_hours + Age, data = players_training) |>\n",
    "    step_scale(all_predictors()) |>\n",
    "    step_center(all_predictors())\n",
    "players_recipe"
   ]
  },
  {
   "cell_type": "markdown",
   "id": "6ac772d9-1022-459d-be32-1d4fea28b2e7",
   "metadata": {},
   "source": [
    "<p>We want to create a model specification, and this requires using the function <code>nearest_neighbor()</code>. <code>weight_func = \"rectangular\"</code> tells that each of the K nearest neighbors has the same weight when voting (Timbers et al., 2024). We specify the number of <code>neighbors</code> as <code>tune()</code> since we are looking for the best K.</p>\n",
    "\n",
    "<p>In <code>set_engine()</code>, we select <code>kknn</code> to work on K-nearest neighbor problem. In <code>set_mode()</code>, we specify that we are now performing a classification problem.</p>"
   ]
  },
  {
   "cell_type": "code",
   "execution_count": null,
   "id": "6f77deba-4f36-44bb-8c2d-ad7650056e6a",
   "metadata": {},
   "outputs": [],
   "source": [
    "knn_spec <- nearest_neighbor(weight_func = \"rectangular\", neighbors = tune()) |>\n",
    "    set_engine(\"kknn\") |>\n",
    "    set_mode(\"classification\")"
   ]
  },
  {
   "cell_type": "markdown",
   "id": "f7c7f63d-22ac-4fe4-9aa1-d3b7fd53f3bf",
   "metadata": {},
   "source": [
    "<p>To determine the accuracy of the model, we use a method called cross-validation. We split the training data into $C$ chunks with equal size. One chunk is used as the validation set and the rest are called training set. We calculate the mean of every result to get the accuracy. Here we use 5-fold cross-validation.</p>"
   ]
  },
  {
   "cell_type": "code",
   "execution_count": null,
   "id": "094f07ac-a15d-4b99-98ee-c4f182454ce6",
   "metadata": {},
   "outputs": [],
   "source": [
    "players_vfold <- vfold_cv(players_training, v = 5, strata = subscribe)\n",
    "players_vfold"
   ]
  },
  {
   "cell_type": "markdown",
   "id": "362c688e-ab00-4e15-8f04-f5db33e655ec",
   "metadata": {},
   "source": [
    "<p>We use <code>seq()</code> to create a data frame that has values from 1 to 30, stored by <code>k_val</code>.</p>\n",
    "<p>Everything required is now prepare. We use the <code>workflow()</code> function to put them together. Using <code>add_recipe()</code> and <code>add_model()</code>, we combined the steps done before. Next, we use <code>tune_grid()</code> to let the model run different values of K (from $1$ to $30$ here).</p>"
   ]
  },
  {
   "cell_type": "code",
   "execution_count": null,
   "id": "ef10a6c3-ab10-4966-a0e9-2baeb45610f0",
   "metadata": {},
   "outputs": [],
   "source": [
    "k_vals <- tibble(neighbors = seq(from = 1, to = 30, by = 1))\n",
    "\n",
    "knn_results <- workflow() |>\n",
    "    add_recipe(players_recipe) |>\n",
    "    add_model(knn_spec) |>\n",
    "    tune_grid(resamples = players_vfold, grid = k_vals) |>\n",
    "    collect_metrics()\n",
    "\n",
    "accuracies <- knn_results |>\n",
    "    filter(.metric == \"accuracy\")\n",
    "\n",
    "accuracies"
   ]
  },
  {
   "cell_type": "markdown",
   "id": "618b2817-d5e6-433c-a26f-174589953c4c",
   "metadata": {},
   "source": [
    "<p>Now, after we get the result, the only thing we have to do is to visualize the result. We use the functions in the <code>ggplot2</code> package to produce the plot.</p>"
   ]
  },
  {
   "cell_type": "code",
   "execution_count": null,
   "id": "3712d5d5-93f0-45c6-be46-40f413e06a28",
   "metadata": {},
   "outputs": [],
   "source": [
    "accuracy_vs_k <- ggplot(accuracies, aes(x = neighbors, y = mean)) +\n",
    "  geom_point() +\n",
    "  geom_line() +\n",
    "  labs(x = \"Neighbors\", y = \"Accuracy Estimate\")\n",
    "\n",
    "accuracy_vs_k"
   ]
  },
  {
   "cell_type": "markdown",
   "id": "f9f998ed-0394-4fef-b6f0-0c0255af2a9f",
   "metadata": {},
   "source": [
    "<p>The code below helps sort the results by descending order of mean and take the first result, which will let us get the number of neighbors who has the highest number of mean this time.</p>"
   ]
  },
  {
   "cell_type": "code",
   "execution_count": null,
   "id": "421e1cae-945e-4042-8f39-3dbe20482588",
   "metadata": {},
   "outputs": [],
   "source": [
    "best_k <- accuracies |>\n",
    "        arrange(desc(mean)) |>\n",
    "        head(1) |>\n",
    "        pull(neighbors)\n",
    "best_k"
   ]
  },
  {
   "cell_type": "markdown",
   "id": "4148c2d4-a889-4be2-a403-017fb3d3bfb6",
   "metadata": {},
   "source": [
    "<p>After getting the value of <code>best_k</code>, we can now evaluate the testing set. The process is mostly same as what was done before, except we changed the values of <code>neighbors</code> from <code>tune()</code> to <code>best_k</code> since we already knew the value.</p>\n",
    "\n",
    "<p>The function <code>predict()</code> produces a single-column data frame with the predictions of observations in the testing set. Also, we use <code>bind_cols</code> to combined it with the original testing set.</p>"
   ]
  },
  {
   "cell_type": "code",
   "execution_count": null,
   "id": "c025d7cb-f6ba-40da-85b2-a159158f9a24",
   "metadata": {},
   "outputs": [],
   "source": [
    "knn_spec <- nearest_neighbor(weight_func = \"rectangular\", neighbors = best_k) |>\n",
    "  set_engine(\"kknn\") |>\n",
    "  set_mode(\"classification\")\n",
    "\n",
    "knn_fit <- workflow() |>\n",
    "  add_recipe(players_recipe) |>\n",
    "  add_model(knn_spec) |>\n",
    "  fit(data = players_testing)\n",
    "\n",
    "prediction <- predict(knn_fit, players_testing) |>\n",
    "    bind_cols(players_testing)\n",
    "\n",
    "prediction"
   ]
  },
  {
   "cell_type": "code",
   "execution_count": null,
   "id": "c1f9b607-8092-42a7-ba53-38dcbc177195",
   "metadata": {},
   "outputs": [],
   "source": [
    "accuracy <- prediction |>\n",
    "    accuracy(truth = subscribe, estimate = .pred_class, event_level = \"first\")\n",
    "precision <- prediction |>\n",
    "    precision(truth = subscribe, estimate = .pred_class, event_level = \"first\")\n",
    "recall <- prediction |>\n",
    "    recall(truth = subscribe, estimate = .pred_class, event_level = \"first\")\n",
    "\n",
    "accuracy\n",
    "precision\n",
    "recall\n",
    "\n",
    "confusion <- prediction |>\n",
    "             conf_mat(truth = subscribe, estimate = .pred_class)\n",
    "confusion"
   ]
  },
  {
   "cell_type": "markdown",
   "id": "4804c404-f747-4d81-9055-829ea8cf8f74",
   "metadata": {},
   "source": [
    "<h2>Discussion</h2>"
   ]
  },
  {
   "cell_type": "markdown",
   "id": "dce54a58-7701-4ad4-a7c3-90387e63ee44",
   "metadata": {},
   "source": [
    "<p>Based on the results we got, the model has apprximately an accuracy of $???$ of pridicting whether the players subsrribe a game-related newletter using the players' age and time played. This is consistent to our assuption mentioned before that the values of age and played time are somehow predictive to players subsription to the newletter. <b>... !!! more summary about the fidings</b></p>"
   ]
  },
  {
   "cell_type": "markdown",
   "id": "77548405-dcb9-47fb-8d93-171f5408342b",
   "metadata": {},
   "source": [
    "<p>However, there are some limitations for this project that could not make the results more comprehensive. For instance, the sample size of the data we have is too small, there are only $196$ records, which is too little to build the model. With the lack of enough data, cross-validation or the split of training and testing data may be unstable and inaccurate, especially in our data, the number of players who subscribed and not subscribe is uneven. The performance will vary depending on the folds and splits.</p>"
   ]
  },
  {
   "cell_type": "markdown",
   "id": "3bf0cb1c-c14b-4624-9927-cc74518dc234",
   "metadata": {},
   "source": [
    "<p>Also, due to the limitations of the algorithm we used, only two variables are compared. Hence, it could not be confirmed that the two chracteristics are the best arguments to use</p>"
   ]
  },
  {
   "cell_type": "markdown",
   "id": "24832e9a-b6ee-4efe-ad83-3a73d4cf9534",
   "metadata": {},
   "source": [
    "<p>The topic discussed in this project could lead to many other research questions in the future. For example, we might want to include other variables to make a more comprehensive analysis. The game companies might also want to produce further research about how to attract the players using the newsletter.</p>"
   ]
  },
  {
   "cell_type": "markdown",
   "id": "9b84f35b-562b-4718-878e-f696af8351fd",
   "metadata": {},
   "source": [
    "<h2>Reference</h2>"
   ]
  },
  {
   "cell_type": "markdown",
   "id": "90ef0992-c53f-4aae-830f-c09c3bd9e2e2",
   "metadata": {},
   "source": [
    "<p>Timbers, T., Lee, M., & Campbell, T. (2024, August 26). <i>Data science: A First Introduction.</i> https://datasciencebook.ca/ </p>"
   ]
  }
 ],
 "metadata": {
  "kernelspec": {
   "display_name": "R",
   "language": "R",
   "name": "ir"
  },
  "language_info": {
   "codemirror_mode": "r",
   "file_extension": ".r",
   "mimetype": "text/x-r-source",
   "name": "R",
   "pygments_lexer": "r",
   "version": "4.3.3"
  }
 },
 "nbformat": 4,
 "nbformat_minor": 5
}
